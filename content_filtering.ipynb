{
  "nbformat": 4,
  "nbformat_minor": 0,
  "metadata": {
    "colab": {
      "provenance": []
    },
    "kernelspec": {
      "name": "python3",
      "display_name": "Python 3"
    },
    "language_info": {
      "name": "python"
    }
  },
  "cells": [
    {
      "cell_type": "code",
      "execution_count": null,
      "metadata": {
        "id": "IOBeMj6iroqX"
      },
      "outputs": [],
      "source": [
        "import pandas as pd\n",
        "from sklearn.feature_extraction.text import TfidfVectorizer\n",
        "from sklearn.metrics.pairwise import linear_kernel\n",
        "\n",
        "\n",
        "df = pd.read_csv('movies.csv')\n",
        "\n",
        "\n",
        "tfidf = TfidfVectorizer(stop_words='english')\n",
        "\n",
        "\n",
        "df['overview'] = df['overview'].fillna('')\n",
        "\n",
        "\n",
        "tfidf_matrix = tfidf.fit_transform(df['overview'])\n",
        "\n",
        "\n",
        "cosine_sim = linear_kernel(tfidf_matrix, tfidf_matrix)\n",
        "\n",
        "\n",
        "indices = pd.Series(df.index, index=df['title']).drop_duplicates()\n",
        "\n",
        "\n",
        "def get_recommendations(title, cosine_sim=cosine_sim):\n",
        "\n",
        "    idx = indices[title]\n",
        "\n",
        "\n",
        "    sim_scores = list(enumerate(cosine_sim[idx]))\n",
        "\n",
        "\n",
        "    sim_scores = sorted(sim_scores, key=lambda x: x[1], reverse=True)\n",
        "\n",
        "\n",
        "    sim_scores = sim_scores[1:11]\n",
        "\n",
        "\n",
        "    movie_indices = [i[0] for i in sim_scores]\n",
        "\n",
        "\n",
        "    return df['title'].iloc[movie_indices]\n",
        "\n",
        "\n",
        "recommended_movies = get_recommendations('The Dark Knight')  # Replace 'Movie Title' with a movie title from your dataset\n",
        "print(recommended_movies)\n"
      ]
    }
  ]
}